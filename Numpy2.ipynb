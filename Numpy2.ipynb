{
 "cells": [
  {
   "cell_type": "code",
   "execution_count": 2,
   "metadata": {},
   "outputs": [],
   "source": [
    "import numpy as np"
   ]
  },
  {
   "cell_type": "code",
   "execution_count": 3,
   "metadata": {},
   "outputs": [
    {
     "name": "stdout",
     "output_type": "stream",
     "text": [
      "Type / class of the object <class 'numpy.ndarray'>\n",
      "Here is the vector \n",
      " -------------------------\n",
      " [1 2 3]\n"
     ]
    }
   ],
   "source": [
    "my_list = [1,2,3]\n",
    "arr = np.array(my_list)\n",
    "print(\"Type / class of the object\",type(arr))\n",
    "print(\"Here is the vector \\n -------------------------\\n\",arr)"
   ]
  },
  {
   "cell_type": "code",
   "execution_count": 5,
   "metadata": {},
   "outputs": [
    {
     "name": "stdout",
     "output_type": "stream",
     "text": [
      "Type/class of the object <class 'numpy.ndarray'>\n",
      "Here the matrix is \n",
      "---------------------------\n",
      " [[1 2 3]\n",
      " [4 5 6]\n",
      " [7 8 9]] \n",
      "-------\n",
      "Dimenstion of the matrix :2\n",
      "Size of the matrix :9\n",
      "Shape of the matrix: (3, 3)\n",
      "Data type of this matrix : int32\n"
     ]
    }
   ],
   "source": [
    "my_mat = [[1,2,3],[4,5,6],[7,8,9]]\n",
    "mat = np.array(my_mat)\n",
    "print(\"Type/class of the object\",type(mat))\n",
    "print(\"Here the matrix is \\n---------------------------\\n\",mat,\"\\n-------\")\n",
    "print(\"Dimenstion of the matrix :\",mat.ndim,sep='')  #gives(ndim) the dimensation 2 for matrix 1 for vector\n",
    "print(\"Size of the matrix :\",mat.size,sep='')        #mat.size gives total number of elements \n",
    "print(\"Shape of the matrix:\",mat.shape)                #shape gives rows and columns\n",
    "print(\"Data type of this matrix :\",mat.dtype)        #dtypes gives the data types contained in the array"
   ]
  },
  {
   "cell_type": "code",
   "execution_count": null,
   "metadata": {},
   "outputs": [],
   "source": []
  }
 ],
 "metadata": {
  "kernelspec": {
   "display_name": "Python 3",
   "language": "python",
   "name": "python3"
  },
  "language_info": {
   "codemirror_mode": {
    "name": "ipython",
    "version": 3
   },
   "file_extension": ".py",
   "mimetype": "text/x-python",
   "name": "python",
   "nbconvert_exporter": "python",
   "pygments_lexer": "ipython3",
   "version": "3.8.5"
  }
 },
 "nbformat": 4,
 "nbformat_minor": 4
}
