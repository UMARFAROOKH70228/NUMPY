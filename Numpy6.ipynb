{
 "cells": [
  {
   "cell_type": "code",
   "execution_count": 1,
   "metadata": {},
   "outputs": [],
   "source": [
    "#RESHAPING"
   ]
  },
  {
   "cell_type": "code",
   "execution_count": 3,
   "metadata": {},
   "outputs": [],
   "source": [
    "import numpy as np\n",
    "from numpy.random import randint as ri"
   ]
  },
  {
   "cell_type": "code",
   "execution_count": 4,
   "metadata": {},
   "outputs": [],
   "source": [
    "a =ri(1,99,30)\n",
    "b=a.reshape(2,3,5)\n",
    "c=a.reshape(6,5)"
   ]
  },
  {
   "cell_type": "code",
   "execution_count": 5,
   "metadata": {},
   "outputs": [
    {
     "data": {
      "text/plain": [
       "array([24, 28,  2, 92, 21, 46, 16, 94, 61, 40, 78, 18, 31, 71, 84,  2, 71,\n",
       "       20,  8, 83, 37,  8, 89, 84,  5, 17, 62, 63, 48, 54])"
      ]
     },
     "execution_count": 5,
     "metadata": {},
     "output_type": "execute_result"
    }
   ],
   "source": [
    "a"
   ]
  },
  {
   "cell_type": "code",
   "execution_count": 6,
   "metadata": {},
   "outputs": [
    {
     "data": {
      "text/plain": [
       "array([[[24, 28,  2, 92, 21],\n",
       "        [46, 16, 94, 61, 40],\n",
       "        [78, 18, 31, 71, 84]],\n",
       "\n",
       "       [[ 2, 71, 20,  8, 83],\n",
       "        [37,  8, 89, 84,  5],\n",
       "        [17, 62, 63, 48, 54]]])"
      ]
     },
     "execution_count": 6,
     "metadata": {},
     "output_type": "execute_result"
    }
   ],
   "source": [
    "b"
   ]
  },
  {
   "cell_type": "code",
   "execution_count": 7,
   "metadata": {},
   "outputs": [
    {
     "data": {
      "text/plain": [
       "array([[24, 28,  2, 92, 21],\n",
       "       [46, 16, 94, 61, 40],\n",
       "       [78, 18, 31, 71, 84],\n",
       "       [ 2, 71, 20,  8, 83],\n",
       "       [37,  8, 89, 84,  5],\n",
       "       [17, 62, 63, 48, 54]])"
      ]
     },
     "execution_count": 7,
     "metadata": {},
     "output_type": "execute_result"
    }
   ],
   "source": [
    "c"
   ]
  },
  {
   "cell_type": "code",
   "execution_count": 8,
   "metadata": {},
   "outputs": [
    {
     "name": "stdout",
     "output_type": "stream",
     "text": [
      "Shape of a: (30,)\n",
      "Shape of b: (2, 3, 5)\n",
      "Shape of c: (6, 5)\n"
     ]
    }
   ],
   "source": [
    "print(\"Shape of a:\",a.shape)\n",
    "print(\"Shape of b:\",b.shape)\n",
    "print(\"Shape of c:\",c.shape)"
   ]
  },
  {
   "cell_type": "code",
   "execution_count": 10,
   "metadata": {},
   "outputs": [
    {
     "name": "stdout",
     "output_type": "stream",
     "text": [
      "\n",
      " a looks like \n",
      " -------------------- \n",
      " [24 28  2 92 21 46 16 94 61 40 78 18 31 71 84  2 71 20  8 83 37  8 89 84\n",
      "  5 17 62 63 48 54] \n",
      " --------------------\n",
      "\n",
      " b looks like \n",
      " -------------------- \n",
      " [[[24 28  2 92 21]\n",
      "  [46 16 94 61 40]\n",
      "  [78 18 31 71 84]]\n",
      "\n",
      " [[ 2 71 20  8 83]\n",
      "  [37  8 89 84  5]\n",
      "  [17 62 63 48 54]]] \n",
      " --------------------\n",
      "\n",
      " c looks like \n",
      " -------------------- \n",
      " [[24 28  2 92 21]\n",
      " [46 16 94 61 40]\n",
      " [78 18 31 71 84]\n",
      " [ 2 71 20  8 83]\n",
      " [37  8 89 84  5]\n",
      " [17 62 63 48 54]] \n",
      " --------------------\n"
     ]
    }
   ],
   "source": [
    "print(\"\\n a looks like \\n\",'-'*20,\"\\n\",a,\"\\n\",'-'*20)\n",
    "print(\"\\n b looks like \\n\",'-'*20,\"\\n\",b,\"\\n\",'-'*20)\n",
    "print(\"\\n c looks like \\n\",'-'*20,\"\\n\",c,\"\\n\",'-'*20)"
   ]
  },
  {
   "cell_type": "code",
   "execution_count": 12,
   "metadata": {},
   "outputs": [
    {
     "name": "stdout",
     "output_type": "stream",
     "text": [
      "\n",
      " vector of of integers \n",
      " -------------------------------------------------- \n",
      " [81 42 22 16 71 48 28 89 99 56]\n",
      "\n",
      " Here is the sorted vector \n",
      " -------------------------------------------------- \n",
      " [16 22 28 42 48 56 71 81 89 99]\n"
     ]
    }
   ],
   "source": [
    "A = ri(1,100,10)        #vector from random numbers\n",
    "print(\"\\n vector of of integers \\n\",'-'*50,\"\\n\",A)\n",
    "print(\"\\n Here is the sorted vector \\n\",'-'*50,\"\\n\",np.sort(A, kind='quicksort'))"
   ]
  },
  {
   "cell_type": "code",
   "execution_count": 15,
   "metadata": {},
   "outputs": [
    {
     "name": "stdout",
     "output_type": "stream",
     "text": [
      "\n",
      " 5*5 matrix of random integers \n",
      " -------------------------------------------------- \n",
      " [[30 13 16 22  4]\n",
      " [45  3 49 63 12]\n",
      " [21 39 60 88 10]\n",
      " [98 51 10 25 94]\n",
      " [47  7 53 22  7]]\n",
      "\n",
      " Here is the sorted matrix along each row \n",
      " -------------------------------------------------- \n",
      " [[ 4 13 16 22 30]\n",
      " [ 3 12 45 49 63]\n",
      " [10 21 39 60 88]\n",
      " [10 25 51 94 98]\n",
      " [ 7  7 22 47 53]]\n",
      "\n",
      " Here is the sorted matrix along each column\n",
      " -------------------------------------------------- \n",
      " [[21  3 10 22  4]\n",
      " [30  7 16 22  7]\n",
      " [45 13 49 25 10]\n",
      " [47 39 53 63 12]\n",
      " [98 51 60 88 94]]\n"
     ]
    }
   ],
   "source": [
    "M = ri(1,100,25).reshape(5,5)\n",
    "print(\"\\n 5*5 matrix of random integers \\n\",'-'*50,\"\\n\",M)\n",
    "print(\"\\n Here is the sorted matrix along each row \\n\",'-'*50,\"\\n\",np.sort(M))\n",
    "print(\"\\n Here is the sorted matrix along each column\\n\",'-'*50,\"\\n\",np.sort(M,axis=0,kind='mergesort'))"
   ]
  },
  {
   "cell_type": "code",
   "execution_count": 16,
   "metadata": {},
   "outputs": [
    {
     "data": {
      "text/plain": [
       "array([[30, 13, 16, 22,  4],\n",
       "       [45,  3, 49, 63, 12],\n",
       "       [21, 39, 60, 88, 10],\n",
       "       [98, 51, 10, 25, 94],\n",
       "       [47,  7, 53, 22,  7]])"
      ]
     },
     "execution_count": 16,
     "metadata": {},
     "output_type": "execute_result"
    }
   ],
   "source": [
    "M"
   ]
  },
  {
   "cell_type": "code",
   "execution_count": 17,
   "metadata": {},
   "outputs": [
    {
     "name": "stdout",
     "output_type": "stream",
     "text": [
      "\n",
      " Here is sorted matrix along each column\n",
      "  -------------------------------------------------- \n",
      " [[21  3 10 22  4]\n",
      " [30  7 16 22  7]\n",
      " [45 13 49 25 10]\n",
      " [47 39 53 63 12]\n",
      " [98 51 60 88 94]]\n"
     ]
    }
   ],
   "source": [
    "print(\"\\n Here is sorted matrix along each column\\n \",'-'*50,\"\\n\",np.sort(M,axis=0,kind='mergesort'))"
   ]
  },
  {
   "cell_type": "code",
   "execution_count": 18,
   "metadata": {},
   "outputs": [
    {
     "data": {
      "text/plain": [
       "array([24, 28,  2, 92, 21, 46, 16, 94, 61, 40, 78, 18, 31, 71, 84,  2, 71,\n",
       "       20,  8, 83, 37,  8, 89, 84,  5, 17, 62, 63, 48, 54])"
      ]
     },
     "execution_count": 18,
     "metadata": {},
     "output_type": "execute_result"
    }
   ],
   "source": [
    "a"
   ]
  },
  {
   "cell_type": "code",
   "execution_count": 19,
   "metadata": {},
   "outputs": [
    {
     "name": "stdout",
     "output_type": "stream",
     "text": [
      "max of a: 94\n"
     ]
    }
   ],
   "source": [
    "print(\"max of a:\",a.max())"
   ]
  },
  {
   "cell_type": "code",
   "execution_count": 20,
   "metadata": {},
   "outputs": [
    {
     "name": "stdout",
     "output_type": "stream",
     "text": [
      "min of b: 2\n"
     ]
    }
   ],
   "source": [
    "print(\"min of b:\",b.min())"
   ]
  },
  {
   "cell_type": "code",
   "execution_count": null,
   "metadata": {},
   "outputs": [],
   "source": []
  }
 ],
 "metadata": {
  "kernelspec": {
   "display_name": "Python 3",
   "language": "python",
   "name": "python3"
  },
  "language_info": {
   "codemirror_mode": {
    "name": "ipython",
    "version": 3
   },
   "file_extension": ".py",
   "mimetype": "text/x-python",
   "name": "python",
   "nbconvert_exporter": "python",
   "pygments_lexer": "ipython3",
   "version": "3.8.5"
  }
 },
 "nbformat": 4,
 "nbformat_minor": 4
}
