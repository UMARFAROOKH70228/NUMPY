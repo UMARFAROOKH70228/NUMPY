{
 "cells": [
  {
   "cell_type": "markdown",
   "metadata": {},
   "source": [
    "##UNIVERSAL FUNCTION "
   ]
  },
  {
   "cell_type": "code",
   "execution_count": 4,
   "metadata": {},
   "outputs": [],
   "source": [
    "import numpy as np\n",
    "from numpy.random import randint as ri"
   ]
  },
  {
   "cell_type": "code",
   "execution_count": 5,
   "metadata": {},
   "outputs": [
    {
     "name": "stdout",
     "output_type": "stream",
     "text": [
      "\n",
      " 1st matrix of random single digit numbers \n",
      " [[2 7 6]\n",
      " [5 7 6]\n",
      " [4 3 1]]\n",
      "\n",
      " 2nd matrix of random single digit numbers \n",
      " [[3 2 8]\n",
      " [6 7 1]\n",
      " [6 1 4]]\n"
     ]
    }
   ],
   "source": [
    "mat1 = np.array(ri(1,10,9)).reshape(3,3)\n",
    "mat2 = np.array(ri(1,10,9)).reshape(3,3)\n",
    "print(\"\\n 1st matrix of random single digit numbers \\n\",mat1)\n",
    "print(\"\\n 2nd matrix of random single digit numbers \\n\",mat2)"
   ]
  },
  {
   "cell_type": "code",
   "execution_count": 6,
   "metadata": {},
   "outputs": [
    {
     "name": "stdout",
     "output_type": "stream",
     "text": [
      "\n",
      " Addition \n",
      "-------------------------------\n",
      " [[ 5  9 14]\n",
      " [11 14  7]\n",
      " [10  4  5]]\n",
      "\n",
      " Multiplication \n",
      "-------------------------------\n",
      " [[ 6 14 48]\n",
      " [30 49  6]\n",
      " [24  3  4]]\n"
     ]
    }
   ],
   "source": [
    "print(\"\\n Addition \\n-------------------------------\\n\",mat1+mat2)\n",
    "print(\"\\n Multiplication \\n-------------------------------\\n\",mat1*mat2)"
   ]
  },
  {
   "cell_type": "code",
   "execution_count": 7,
   "metadata": {},
   "outputs": [
    {
     "name": "stdout",
     "output_type": "stream",
     "text": [
      "\n",
      " Division \n",
      "-----------------------------\n",
      " [[0.66666667 3.5        0.75      ]\n",
      " [0.83333333 1.         6.        ]\n",
      " [0.66666667 3.         0.25      ]]\n",
      "\n",
      " Linear combination:3*A-2*B \n",
      "----------------------n [[ 0 17  2]\n",
      " [ 3  7 16]\n",
      " [ 0  7 -5]]\n"
     ]
    }
   ],
   "source": [
    "print(\"\\n Division \\n-----------------------------\\n\",mat1/mat2)\n",
    "print(\"\\n Linear combination:3*A-2*B \\n----------------------n\",3*mat1-2*mat2)"
   ]
  },
  {
   "cell_type": "code",
   "execution_count": 8,
   "metadata": {},
   "outputs": [
    {
     "name": "stdout",
     "output_type": "stream",
     "text": [
      "\n",
      " Addition of scalar (100)\n",
      "------------------\n",
      " [[102 107 106]\n",
      " [105 107 106]\n",
      " [104 103 101]]\n"
     ]
    }
   ],
   "source": [
    "print(\"\\n Addition of scalar (100)\\n------------------\\n\",100+mat1)\n",
    "new_mat = 100+mat1"
   ]
  },
  {
   "cell_type": "code",
   "execution_count": 9,
   "metadata": {},
   "outputs": [
    {
     "data": {
      "text/plain": [
       "array([[102, 107, 106],\n",
       "       [105, 107, 106],\n",
       "       [104, 103, 101]])"
      ]
     },
     "execution_count": 9,
     "metadata": {},
     "output_type": "execute_result"
    }
   ],
   "source": [
    "new_mat"
   ]
  },
  {
   "cell_type": "code",
   "execution_count": 10,
   "metadata": {},
   "outputs": [
    {
     "name": "stdout",
     "output_type": "stream",
     "text": [
      "\n",
      " exponential matrix cubed have here \n",
      "-----------------------------------\n",
      " [[  8 343 216]\n",
      " [125 343 216]\n",
      " [ 64  27   1]]\n"
     ]
    }
   ],
   "source": [
    "print(\"\\n exponential matrix cubed have here \\n-----------------------------------\\n\",mat1**3)"
   ]
  },
  {
   "cell_type": "code",
   "execution_count": 11,
   "metadata": {},
   "outputs": [
    {
     "name": "stdout",
     "output_type": "stream",
     "text": [
      "\n",
      " sq.root using polar function \n",
      "------------------------------------\n",
      " [[1.41421356 2.64575131 2.44948974]\n",
      " [2.23606798 2.64575131 2.44948974]\n",
      " [2.         1.73205081 1.        ]]\n"
     ]
    }
   ],
   "source": [
    "print(\"\\n sq.root using polar function \\n------------------------------------\\n\",pow(mat1,.5))"
   ]
  },
  {
   "cell_type": "code",
   "execution_count": 12,
   "metadata": {},
   "outputs": [
    {
     "data": {
      "text/plain": [
       "array([[2, 7, 6],\n",
       "       [5, 7, 6],\n",
       "       [4, 3, 1]])"
      ]
     },
     "execution_count": 12,
     "metadata": {},
     "output_type": "execute_result"
    }
   ],
   "source": [
    "mat1"
   ]
  },
  {
   "cell_type": "code",
   "execution_count": 13,
   "metadata": {},
   "outputs": [
    {
     "data": {
      "text/plain": [
       "array([[3, 2, 8],\n",
       "       [6, 7, 1],\n",
       "       [6, 1, 4]])"
      ]
     },
     "execution_count": 13,
     "metadata": {},
     "output_type": "execute_result"
    }
   ],
   "source": [
    "mat2"
   ]
  },
  {
   "cell_type": "code",
   "execution_count": 14,
   "metadata": {},
   "outputs": [
    {
     "name": "stdout",
     "output_type": "stream",
     "text": [
      "\n",
      " sq.root of 1st matrix using np \n",
      "---------------------------------\n",
      " [[1.41421356 2.64575131 2.44948974]\n",
      " [2.23606798 2.64575131 2.44948974]\n",
      " [2.         1.73205081 1.        ]]\n"
     ]
    }
   ],
   "source": [
    "print(\"\\n sq.root of 1st matrix using np \\n---------------------------------\\n\",np.sqrt(mat1))"
   ]
  },
  {
   "cell_type": "code",
   "execution_count": 15,
   "metadata": {},
   "outputs": [
    {
     "name": "stdout",
     "output_type": "stream",
     "text": [
      "\n",
      " exponential power of 1st matrix using np \n",
      "---------------------------------\n",
      " [[   7.3890561  1096.63315843  403.42879349]\n",
      " [ 148.4131591  1096.63315843  403.42879349]\n",
      " [  54.59815003   20.08553692    2.71828183]]\n"
     ]
    }
   ],
   "source": [
    "print(\"\\n exponential power of 1st matrix using np \\n---------------------------------\\n\",np.exp(mat1))"
   ]
  },
  {
   "cell_type": "code",
   "execution_count": 16,
   "metadata": {},
   "outputs": [
    {
     "name": "stdout",
     "output_type": "stream",
     "text": [
      "\n",
      " 10 base logaritham np \n",
      "---------------------------------\n",
      " [[0.30103    0.84509804 0.77815125]\n",
      " [0.69897    0.84509804 0.77815125]\n",
      " [0.60205999 0.47712125 0.        ]]\n"
     ]
    }
   ],
   "source": [
    "print(\"\\n 10 base logaritham np \\n---------------------------------\\n\",np.log10(mat1))"
   ]
  },
  {
   "cell_type": "code",
   "execution_count": 17,
   "metadata": {},
   "outputs": [
    {
     "data": {
      "text/plain": [
       "1.0986122886681098"
      ]
     },
     "execution_count": 17,
     "metadata": {},
     "output_type": "execute_result"
    }
   ],
   "source": [
    "np.log(3)"
   ]
  },
  {
   "cell_type": "code",
   "execution_count": null,
   "metadata": {},
   "outputs": [],
   "source": []
  }
 ],
 "metadata": {
  "kernelspec": {
   "display_name": "Python 3",
   "language": "python",
   "name": "python3"
  },
  "language_info": {
   "codemirror_mode": {
    "name": "ipython",
    "version": 3
   },
   "file_extension": ".py",
   "mimetype": "text/x-python",
   "name": "python",
   "nbconvert_exporter": "python",
   "pygments_lexer": "ipython3",
   "version": "3.8.5"
  }
 },
 "nbformat": 4,
 "nbformat_minor": 4
}
