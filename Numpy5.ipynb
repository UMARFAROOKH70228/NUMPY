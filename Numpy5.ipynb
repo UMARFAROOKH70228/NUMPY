{
 "cells": [
  {
   "cell_type": "code",
   "execution_count": null,
   "metadata": {},
   "outputs": [],
   "source": [
    "#RANDOM NUMBER GENERATION"
   ]
  },
  {
   "cell_type": "code",
   "execution_count": 1,
   "metadata": {},
   "outputs": [],
   "source": [
    "import numpy as np"
   ]
  },
  {
   "cell_type": "code",
   "execution_count": 2,
   "metadata": {},
   "outputs": [
    {
     "name": "stdout",
     "output_type": "stream",
     "text": [
      "Random number generation (from uniform distribution)\n",
      "[[0.03619641 0.17959533 0.34616379 0.04231357 0.7407477 ]\n",
      " [0.09456013 0.26614991 0.07046563 0.67984436 0.32875169]\n",
      " [0.1484034  0.38294351 0.82970366 0.8664964  0.04778593]\n",
      " [0.67841804 0.45637887 0.96568883 0.81053173 0.61224078]\n",
      " [0.29109162 0.01085681 0.39716808 0.90063669 0.05057198]\n",
      " [0.69557555 0.01170133 0.05448504 0.01755804 0.89892512]\n",
      " [0.84568524 0.38744603 0.41898848 0.92271322 0.66301199]\n",
      " [0.88528222 0.11717832 0.2476242  0.1558493  0.3659505 ]\n",
      " [0.2141291  0.38126475 0.06323893 0.94765676 0.09992578]\n",
      " [0.03790119 0.40445174 0.99795808 0.92143641 0.67867457]]\n"
     ]
    }
   ],
   "source": [
    "print(\"Random number generation (from uniform distribution)\")\n",
    "print(np.random.rand(10,5))          #Rand = 0to1 all +ve numbers"
   ]
  },
  {
   "cell_type": "code",
   "execution_count": 3,
   "metadata": {},
   "outputs": [
    {
     "name": "stdout",
     "output_type": "stream",
     "text": [
      "Numberts from Normal distribution with zero mean and std deviation 1 thatr is standard normal \n",
      "[[-1.89326127 -0.72791172]\n",
      " [-0.33262774  0.21149785]\n",
      " [-0.862614   -0.40363644]\n",
      " [ 1.06426304  0.59613785]\n",
      " [-1.4237002  -0.50335289]\n",
      " [ 1.55699886 -0.23091156]\n",
      " [-0.05287857  0.78066288]\n",
      " [ 0.65471492 -0.7300959 ]\n",
      " [ 0.66294273 -0.62308442]\n",
      " [ 0.29283339  0.08424136]]\n"
     ]
    }
   ],
   "source": [
    "print(\"Numberts from Normal distribution with zero mean and std deviation 1 thatr is standard normal \")\n",
    "print(np.random.randn(10,2))    #GENERATION OF ALL +VE AND -VE NUMBERS"
   ]
  },
  {
   "cell_type": "code",
   "execution_count": 9,
   "metadata": {},
   "outputs": [
    {
     "name": "stdout",
     "output_type": "stream",
     "text": [
      "\n",
      " Random integer vector: [1 3 1 5 4 2 1 1 4 4]\n"
     ]
    }
   ],
   "source": [
    "print(\"\\n Random integer vector:\",np.random.randint(1,6,10))    #GENERATION OF INTEGER"
   ]
  },
  {
   "cell_type": "code",
   "execution_count": 11,
   "metadata": {},
   "outputs": [
    {
     "name": "stdout",
     "output_type": "stream",
     "text": [
      "\n",
      " Random integer matrix\n",
      "[[ 1 26 25 15]\n",
      " [23  6 24  6]\n",
      " [ 3 27 25 27]\n",
      " [29 27  2 13]]\n"
     ]
    }
   ],
   "source": [
    "print(\"\\n Random integer matrix\")\n",
    "print(np.random.randint(1,30,(4,4)))"
   ]
  },
  {
   "cell_type": "code",
   "execution_count": 12,
   "metadata": {},
   "outputs": [
    {
     "name": "stdout",
     "output_type": "stream",
     "text": [
      "\n",
      " 20 samples drawn from dice thrown: [4 4 4 4 5 1 6 2 1 2 5 3 1 6 1 6 2 2 3 6]\n"
     ]
    }
   ],
   "source": [
    "print(\"\\n 20 samples drawn from dice thrown:\",np.random.randint(1,7,20))"
   ]
  },
  {
   "cell_type": "code",
   "execution_count": null,
   "metadata": {},
   "outputs": [],
   "source": []
  }
 ],
 "metadata": {
  "kernelspec": {
   "display_name": "Python 3",
   "language": "python",
   "name": "python3"
  },
  "language_info": {
   "codemirror_mode": {
    "name": "ipython",
    "version": 3
   },
   "file_extension": ".py",
   "mimetype": "text/x-python",
   "name": "python",
   "nbconvert_exporter": "python",
   "pygments_lexer": "ipython3",
   "version": "3.8.5"
  }
 },
 "nbformat": 4,
 "nbformat_minor": 4
}
